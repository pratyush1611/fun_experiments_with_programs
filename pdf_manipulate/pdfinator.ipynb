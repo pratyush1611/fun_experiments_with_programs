{
 "metadata": {
  "language_info": {
   "codemirror_mode": {
    "name": "ipython",
    "version": 3
   },
   "file_extension": ".py",
   "mimetype": "text/x-python",
   "name": "python",
   "nbconvert_exporter": "python",
   "pygments_lexer": "ipython3",
   "version": "3.9.1"
  },
  "orig_nbformat": 2,
  "kernelspec": {
   "name": "python3",
   "display_name": "Python 3.9.1 64-bit ('fun_env': conda)",
   "metadata": {
    "interpreter": {
     "hash": "671e3b7242e8a3d67ee97068108da84c82a00048cc9958d5ab17bd2b2875666e"
    }
   }
  }
 },
 "nbformat": 4,
 "nbformat_minor": 2,
 "cells": [
  {
   "source": [
    "# workflow\n",
    "- take file \n",
    "    file supposed to be already in booklet format\n",
    "\n",
    "## TODO: flip every second (even) page by 180 degrees and save this as new pdf\n"
   ],
   "cell_type": "markdown",
   "metadata": {}
  },
  {
   "cell_type": "code",
   "execution_count": 4,
   "metadata": {},
   "outputs": [],
   "source": [
    "from PyPDF2 import PdfFileReader, PdfFileWriter"
   ]
  },
  {
   "cell_type": "code",
   "execution_count": 52,
   "metadata": {},
   "outputs": [
    {
     "output_type": "stream",
     "name": "stdout",
     "text": [
      "0\n1\nhere\n2\n3\nhere\n4\n5\nhere\n"
     ]
    }
   ],
   "source": [
    "def rotate_pages(pdf_path):\n",
    "    pdf_writer = PdfFileWriter()\n",
    "    pdf_reader = PdfFileReader(pdf_path)\n",
    "\n",
    "    pg = pdf_reader.numPages\n",
    "    for page in range(pg): \n",
    "        print(page)\n",
    "  \n",
    "  \n",
    "        # creating rotated page object \n",
    "        pageObj = pdf_reader.getPage(page)\n",
    "        # rotate if even page, page is odd\n",
    "        if page%2 != 0:\n",
    "            print(\"here\")\n",
    "            pageObj.rotateClockwise(180) \n",
    "            pdf_writer.addPage(pageObj) \n",
    "        else:\n",
    "            # pageObj.rotateClockwise(180) \n",
    "            pdf_writer.addPage(pageObj) \n",
    "\n",
    "    with open('output.pdf', 'wb') as fh:\n",
    "        pdf_writer.write(fh)\n",
    "\n",
    "rotate_pages(\"tester.pdf\")"
   ]
  },
  {
   "cell_type": "code",
   "execution_count": 37,
   "metadata": {},
   "outputs": [
    {
     "output_type": "stream",
     "name": "stdout",
     "text": [
      "2\n4\n6\n"
     ]
    }
   ],
   "source": [
    "def make_booklet(pdf_path):\n",
    "    pdf_writer = PdfFileWriter()\n",
    "    pdf_reader = PdfFileReader(pdf_path)\n",
    "    pg = pdf_reader.numPages\n",
    "\n",
    "    if (pg%2 == 0):\n",
    "        \n",
    "\n",
    "    else:\n",
    "\n",
    "\n",
    "    for page in range(pg): \n",
    "        print(page)\n"
   ]
  }
 ]
}